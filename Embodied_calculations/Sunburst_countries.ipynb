{
 "cells": [
  {
   "cell_type": "code",
   "execution_count": 16,
   "id": "537597f0-89f4-4c36-91f5-2a7be8b5fb60",
   "metadata": {},
   "outputs": [],
   "source": [
    "import plotly.express as px\n",
    "import pandas as pd\n",
    "import plotly.graph_objects as go"
   ]
  },
  {
   "cell_type": "code",
   "execution_count": 17,
   "id": "b259257d-ca1d-46ef-91e4-12ae65feecbe",
   "metadata": {},
   "outputs": [
    {
     "data": {
      "text/html": [
       "<div>\n",
       "<style scoped>\n",
       "    .dataframe tbody tr th:only-of-type {\n",
       "        vertical-align: middle;\n",
       "    }\n",
       "\n",
       "    .dataframe tbody tr th {\n",
       "        vertical-align: top;\n",
       "    }\n",
       "\n",
       "    .dataframe thead th {\n",
       "        text-align: right;\n",
       "    }\n",
       "</style>\n",
       "<table border=\"1\" class=\"dataframe\">\n",
       "  <thead>\n",
       "    <tr style=\"text-align: right;\">\n",
       "      <th></th>\n",
       "      <th>3_regions</th>\n",
       "      <th>Country_name</th>\n",
       "      <th>Embodied footprint</th>\n",
       "    </tr>\n",
       "  </thead>\n",
       "  <tbody>\n",
       "    <tr>\n",
       "      <th>0</th>\n",
       "      <td>EU</td>\n",
       "      <td>Austria</td>\n",
       "      <td>0.163063</td>\n",
       "    </tr>\n",
       "    <tr>\n",
       "      <th>1</th>\n",
       "      <td>ROW</td>\n",
       "      <td>Australia</td>\n",
       "      <td>0.250587</td>\n",
       "    </tr>\n",
       "    <tr>\n",
       "      <th>2</th>\n",
       "      <td>EU</td>\n",
       "      <td>Belgium</td>\n",
       "      <td>1.195678</td>\n",
       "    </tr>\n",
       "    <tr>\n",
       "      <th>3</th>\n",
       "      <td>EU</td>\n",
       "      <td>Bulgaria</td>\n",
       "      <td>0.125815</td>\n",
       "    </tr>\n",
       "    <tr>\n",
       "      <th>4</th>\n",
       "      <td>ROW</td>\n",
       "      <td>Brazil</td>\n",
       "      <td>0.272645</td>\n",
       "    </tr>\n",
       "  </tbody>\n",
       "</table>\n",
       "</div>"
      ],
      "text/plain": [
       "  3_regions Country_name  Embodied footprint\n",
       "0        EU      Austria            0.163063\n",
       "1       ROW    Australia            0.250587\n",
       "2        EU      Belgium            1.195678\n",
       "3        EU     Bulgaria            0.125815\n",
       "4       ROW       Brazil            0.272645"
      ]
     },
     "execution_count": 17,
     "metadata": {},
     "output_type": "execute_result"
    }
   ],
   "source": [
    "# Load your data\n",
    "excel_path = 'footprint_countries_sunburst.xlsx'\n",
    "df = pd.read_excel(excel_path)\n",
    "df.head()"
   ]
  },
  {
   "cell_type": "code",
   "execution_count": 29,
   "id": "7b335eaa-995b-4ba4-9c2c-6a28c0307532",
   "metadata": {},
   "outputs": [
    {
     "data": {
      "application/vnd.plotly.v1+json": {
       "config": {
        "plotlyServerURL": "https://plot.ly"
       },
       "data": [
        {
         "branchvalues": "total",
         "customdata": [
          [
           "ROW"
          ],
          [
           "ROW"
          ],
          [
           "EU"
          ],
          [
           "ROW"
          ],
          [
           "EU"
          ],
          [
           "EU"
          ],
          [
           "EU"
          ],
          [
           "ROW"
          ],
          [
           "EU"
          ],
          [
           "ROW"
          ],
          [
           "EU"
          ],
          [
           "EU"
          ],
          [
           "ROW"
          ],
          [
           "EU"
          ],
          [
           "EU"
          ],
          [
           "ROW"
          ],
          [
           "EU"
          ],
          [
           "EU"
          ],
          [
           "EU"
          ],
          [
           "ROW"
          ],
          [
           "ROW"
          ],
          [
           "EU"
          ],
          [
           "EU"
          ],
          [
           "EU"
          ],
          [
           "EU"
          ],
          [
           "EU"
          ],
          [
           "EU"
          ],
          [
           "EU"
          ],
          [
           "EU"
          ],
          [
           "ROW"
          ],
          [
           "EU"
          ],
          [
           "ROW"
          ],
          [
           "ROW"
          ],
          [
           "ROW"
          ],
          [
           "EU"
          ],
          [
           "EU"
          ],
          [
           "EU"
          ],
          [
           "ROW"
          ],
          [
           "ROW"
          ],
          [
           "ROW"
          ],
          [
           "ROW"
          ],
          [
           "EU"
          ],
          [
           "EU"
          ],
          [
           "ROW"
          ],
          [
           "ROW"
          ],
          [
           "EU"
          ],
          [
           "EU"
          ],
          [
           "ROW"
          ],
          [
           "EU"
          ],
          [
           "France"
          ],
          [
           "ROW"
          ]
         ],
         "domain": {
          "x": [
           0,
           1
          ],
          "y": [
           0,
           1
          ]
         },
         "hovertemplate": "labels=%{label}<br>Embodied footprint=%{value}<br>parent=%{parent}<br>id=%{id}<br>3_regions=%{customdata[0]}<extra></extra>",
         "ids": [
          "ROW/Australia",
          "ROW/RoW Europe",
          "EU/Slovakia",
          "ROW/RoW America",
          "EU/Slovenia",
          "EU/Portugal",
          "EU/Poland",
          "ROW/Norway",
          "EU/Netherlands",
          "ROW/South Africa",
          "EU/Luxembourg",
          "EU/Latvia",
          "ROW/Japan",
          "EU/Italy",
          "EU/Ireland",
          "ROW/RoW Middle East",
          "EU/Indonesia",
          "EU/Cyprus",
          "EU/Belgium",
          "ROW/Brazil",
          "ROW/India",
          "EU/Czech Republic",
          "EU/Denmark",
          "EU/Romania",
          "EU/Estonia",
          "EU/Finland",
          "EU/Germany",
          "EU/Greece",
          "EU/Hungary",
          "ROW/South Korea",
          "EU/Sweden",
          "ROW/Switzerland",
          "ROW/Taiwan",
          "ROW/Turkey",
          "EU/United Kingdom",
          "EU/Spain",
          "EU/Malta",
          "ROW/RoW Asia and Pacific",
          "ROW/RoW Africa",
          "ROW/Mexico",
          "ROW/United States",
          "EU/Lithuania",
          "EU/Croatia",
          "ROW/China",
          "ROW/Canada",
          "EU/Bulgaria",
          "EU/Austria",
          "ROW/Russia",
          "EU",
          "France",
          "ROW"
         ],
         "labels": [
          "Australia",
          "RoW Europe",
          "Slovakia",
          "RoW America",
          "Slovenia",
          "Portugal",
          "Poland",
          "Norway",
          "Netherlands",
          "South Africa",
          "Luxembourg",
          "Latvia",
          "Japan",
          "Italy",
          "Ireland",
          "RoW Middle East",
          "Indonesia",
          "Cyprus",
          "Belgium",
          "Brazil",
          "India",
          "Czech Republic",
          "Denmark",
          "Romania",
          "Estonia",
          "Finland",
          "Germany",
          "Greece",
          "Hungary",
          "South Korea",
          "Sweden",
          "Switzerland",
          "Taiwan",
          "Turkey",
          "United Kingdom",
          "Spain",
          "Malta",
          "RoW Asia and Pacific",
          "RoW Africa",
          "Mexico",
          "United States",
          "Lithuania",
          "Croatia",
          "China",
          "Canada",
          "Bulgaria",
          "Austria",
          "Russia",
          "EU",
          "France",
          "ROW"
         ],
         "marker": {
          "colors": [
           "2b2d42",
           "2b2d42",
           "8d99ae",
           "2b2d42",
           "8d99ae",
           "8d99ae",
           "8d99ae",
           "2b2d42",
           "8d99ae",
           "2b2d42",
           "8d99ae",
           "8d99ae",
           "2b2d42",
           "8d99ae",
           "8d99ae",
           "2b2d42",
           "8d99ae",
           "8d99ae",
           "8d99ae",
           "2b2d42",
           "2b2d42",
           "8d99ae",
           "8d99ae",
           "8d99ae",
           "8d99ae",
           "8d99ae",
           "8d99ae",
           "8d99ae",
           "8d99ae",
           "2b2d42",
           "8d99ae",
           "2b2d42",
           "2b2d42",
           "2b2d42",
           "8d99ae",
           "8d99ae",
           "8d99ae",
           "2b2d42",
           "2b2d42",
           "2b2d42",
           "2b2d42",
           "8d99ae",
           "8d99ae",
           "2b2d42",
           "2b2d42",
           "8d99ae",
           "8d99ae",
           "2b2d42",
           "8d99ae",
           "edf2f4",
           "2b2d42"
          ]
         },
         "name": "",
         "parents": [
          "ROW",
          "ROW",
          "EU",
          "ROW",
          "EU",
          "EU",
          "EU",
          "ROW",
          "EU",
          "ROW",
          "EU",
          "EU",
          "ROW",
          "EU",
          "EU",
          "ROW",
          "EU",
          "EU",
          "EU",
          "ROW",
          "ROW",
          "EU",
          "EU",
          "EU",
          "EU",
          "EU",
          "EU",
          "EU",
          "EU",
          "ROW",
          "EU",
          "ROW",
          "ROW",
          "ROW",
          "EU",
          "EU",
          "EU",
          "ROW",
          "ROW",
          "ROW",
          "ROW",
          "EU",
          "EU",
          "ROW",
          "ROW",
          "EU",
          "EU",
          "ROW",
          "",
          "",
          ""
         ],
         "type": "sunburst",
         "values": [
          0.2505867148193944,
          0.5874955804405295,
          0.1023236257049952,
          0.7648114615485134,
          0.03524607925082411,
          0.7413901631452283,
          1.331031150521348,
          0.1877294486957495,
          0.5195443506042121,
          0.3750423104127611,
          0.5170422509116679,
          0.02396430822078668,
          0.3703635756825793,
          1.093567211010242,
          0.1883648169375515,
          2.169659110963478,
          0.2374613964683131,
          0.01841347882850895,
          1.195678280789016,
          0.2726451418217727,
          0.9825514861331416,
          0.2582441591923338,
          0.1009812250379575,
          0.1390481339656688,
          0.03961780202715426,
          0.1226574393852449,
          2.533173972574354,
          0.3258545530918327,
          0.09334284655318528,
          0.176203170964716,
          0.1497749266614868,
          0.1152863560908025,
          0.2273573372216933,
          0.5658445944781817,
          0.6312345538169076,
          1.630793652611455,
          0.004129166171240959,
          3.141966475531545,
          3.042853765136616,
          0.1478484525197946,
          1.054754525017801,
          0.03484366541281012,
          0.03412617712670326,
          3.96408973774331,
          0.2489391311062095,
          0.1258147624369647,
          0.1630632120685865,
          1.656469298506506,
          12.39072736052658,
          25.22215514292135,
          20.302497674835095
         ]
        }
       ],
       "layout": {
        "font": {
         "family": "Arial Black",
         "size": 25
        },
        "height": 1000,
        "legend": {
         "tracegroupgap": 0
        },
        "margin": {
         "t": 60
        },
        "template": {
         "data": {
          "bar": [
           {
            "error_x": {
             "color": "#2a3f5f"
            },
            "error_y": {
             "color": "#2a3f5f"
            },
            "marker": {
             "line": {
              "color": "#E5ECF6",
              "width": 0.5
             },
             "pattern": {
              "fillmode": "overlay",
              "size": 10,
              "solidity": 0.2
             }
            },
            "type": "bar"
           }
          ],
          "barpolar": [
           {
            "marker": {
             "line": {
              "color": "#E5ECF6",
              "width": 0.5
             },
             "pattern": {
              "fillmode": "overlay",
              "size": 10,
              "solidity": 0.2
             }
            },
            "type": "barpolar"
           }
          ],
          "carpet": [
           {
            "aaxis": {
             "endlinecolor": "#2a3f5f",
             "gridcolor": "white",
             "linecolor": "white",
             "minorgridcolor": "white",
             "startlinecolor": "#2a3f5f"
            },
            "baxis": {
             "endlinecolor": "#2a3f5f",
             "gridcolor": "white",
             "linecolor": "white",
             "minorgridcolor": "white",
             "startlinecolor": "#2a3f5f"
            },
            "type": "carpet"
           }
          ],
          "choropleth": [
           {
            "colorbar": {
             "outlinewidth": 0,
             "ticks": ""
            },
            "type": "choropleth"
           }
          ],
          "contour": [
           {
            "colorbar": {
             "outlinewidth": 0,
             "ticks": ""
            },
            "colorscale": [
             [
              0,
              "#0d0887"
             ],
             [
              0.1111111111111111,
              "#46039f"
             ],
             [
              0.2222222222222222,
              "#7201a8"
             ],
             [
              0.3333333333333333,
              "#9c179e"
             ],
             [
              0.4444444444444444,
              "#bd3786"
             ],
             [
              0.5555555555555556,
              "#d8576b"
             ],
             [
              0.6666666666666666,
              "#ed7953"
             ],
             [
              0.7777777777777778,
              "#fb9f3a"
             ],
             [
              0.8888888888888888,
              "#fdca26"
             ],
             [
              1,
              "#f0f921"
             ]
            ],
            "type": "contour"
           }
          ],
          "contourcarpet": [
           {
            "colorbar": {
             "outlinewidth": 0,
             "ticks": ""
            },
            "type": "contourcarpet"
           }
          ],
          "heatmap": [
           {
            "colorbar": {
             "outlinewidth": 0,
             "ticks": ""
            },
            "colorscale": [
             [
              0,
              "#0d0887"
             ],
             [
              0.1111111111111111,
              "#46039f"
             ],
             [
              0.2222222222222222,
              "#7201a8"
             ],
             [
              0.3333333333333333,
              "#9c179e"
             ],
             [
              0.4444444444444444,
              "#bd3786"
             ],
             [
              0.5555555555555556,
              "#d8576b"
             ],
             [
              0.6666666666666666,
              "#ed7953"
             ],
             [
              0.7777777777777778,
              "#fb9f3a"
             ],
             [
              0.8888888888888888,
              "#fdca26"
             ],
             [
              1,
              "#f0f921"
             ]
            ],
            "type": "heatmap"
           }
          ],
          "heatmapgl": [
           {
            "colorbar": {
             "outlinewidth": 0,
             "ticks": ""
            },
            "colorscale": [
             [
              0,
              "#0d0887"
             ],
             [
              0.1111111111111111,
              "#46039f"
             ],
             [
              0.2222222222222222,
              "#7201a8"
             ],
             [
              0.3333333333333333,
              "#9c179e"
             ],
             [
              0.4444444444444444,
              "#bd3786"
             ],
             [
              0.5555555555555556,
              "#d8576b"
             ],
             [
              0.6666666666666666,
              "#ed7953"
             ],
             [
              0.7777777777777778,
              "#fb9f3a"
             ],
             [
              0.8888888888888888,
              "#fdca26"
             ],
             [
              1,
              "#f0f921"
             ]
            ],
            "type": "heatmapgl"
           }
          ],
          "histogram": [
           {
            "marker": {
             "pattern": {
              "fillmode": "overlay",
              "size": 10,
              "solidity": 0.2
             }
            },
            "type": "histogram"
           }
          ],
          "histogram2d": [
           {
            "colorbar": {
             "outlinewidth": 0,
             "ticks": ""
            },
            "colorscale": [
             [
              0,
              "#0d0887"
             ],
             [
              0.1111111111111111,
              "#46039f"
             ],
             [
              0.2222222222222222,
              "#7201a8"
             ],
             [
              0.3333333333333333,
              "#9c179e"
             ],
             [
              0.4444444444444444,
              "#bd3786"
             ],
             [
              0.5555555555555556,
              "#d8576b"
             ],
             [
              0.6666666666666666,
              "#ed7953"
             ],
             [
              0.7777777777777778,
              "#fb9f3a"
             ],
             [
              0.8888888888888888,
              "#fdca26"
             ],
             [
              1,
              "#f0f921"
             ]
            ],
            "type": "histogram2d"
           }
          ],
          "histogram2dcontour": [
           {
            "colorbar": {
             "outlinewidth": 0,
             "ticks": ""
            },
            "colorscale": [
             [
              0,
              "#0d0887"
             ],
             [
              0.1111111111111111,
              "#46039f"
             ],
             [
              0.2222222222222222,
              "#7201a8"
             ],
             [
              0.3333333333333333,
              "#9c179e"
             ],
             [
              0.4444444444444444,
              "#bd3786"
             ],
             [
              0.5555555555555556,
              "#d8576b"
             ],
             [
              0.6666666666666666,
              "#ed7953"
             ],
             [
              0.7777777777777778,
              "#fb9f3a"
             ],
             [
              0.8888888888888888,
              "#fdca26"
             ],
             [
              1,
              "#f0f921"
             ]
            ],
            "type": "histogram2dcontour"
           }
          ],
          "mesh3d": [
           {
            "colorbar": {
             "outlinewidth": 0,
             "ticks": ""
            },
            "type": "mesh3d"
           }
          ],
          "parcoords": [
           {
            "line": {
             "colorbar": {
              "outlinewidth": 0,
              "ticks": ""
             }
            },
            "type": "parcoords"
           }
          ],
          "pie": [
           {
            "automargin": true,
            "type": "pie"
           }
          ],
          "scatter": [
           {
            "fillpattern": {
             "fillmode": "overlay",
             "size": 10,
             "solidity": 0.2
            },
            "type": "scatter"
           }
          ],
          "scatter3d": [
           {
            "line": {
             "colorbar": {
              "outlinewidth": 0,
              "ticks": ""
             }
            },
            "marker": {
             "colorbar": {
              "outlinewidth": 0,
              "ticks": ""
             }
            },
            "type": "scatter3d"
           }
          ],
          "scattercarpet": [
           {
            "marker": {
             "colorbar": {
              "outlinewidth": 0,
              "ticks": ""
             }
            },
            "type": "scattercarpet"
           }
          ],
          "scattergeo": [
           {
            "marker": {
             "colorbar": {
              "outlinewidth": 0,
              "ticks": ""
             }
            },
            "type": "scattergeo"
           }
          ],
          "scattergl": [
           {
            "marker": {
             "colorbar": {
              "outlinewidth": 0,
              "ticks": ""
             }
            },
            "type": "scattergl"
           }
          ],
          "scattermapbox": [
           {
            "marker": {
             "colorbar": {
              "outlinewidth": 0,
              "ticks": ""
             }
            },
            "type": "scattermapbox"
           }
          ],
          "scatterpolar": [
           {
            "marker": {
             "colorbar": {
              "outlinewidth": 0,
              "ticks": ""
             }
            },
            "type": "scatterpolar"
           }
          ],
          "scatterpolargl": [
           {
            "marker": {
             "colorbar": {
              "outlinewidth": 0,
              "ticks": ""
             }
            },
            "type": "scatterpolargl"
           }
          ],
          "scatterternary": [
           {
            "marker": {
             "colorbar": {
              "outlinewidth": 0,
              "ticks": ""
             }
            },
            "type": "scatterternary"
           }
          ],
          "surface": [
           {
            "colorbar": {
             "outlinewidth": 0,
             "ticks": ""
            },
            "colorscale": [
             [
              0,
              "#0d0887"
             ],
             [
              0.1111111111111111,
              "#46039f"
             ],
             [
              0.2222222222222222,
              "#7201a8"
             ],
             [
              0.3333333333333333,
              "#9c179e"
             ],
             [
              0.4444444444444444,
              "#bd3786"
             ],
             [
              0.5555555555555556,
              "#d8576b"
             ],
             [
              0.6666666666666666,
              "#ed7953"
             ],
             [
              0.7777777777777778,
              "#fb9f3a"
             ],
             [
              0.8888888888888888,
              "#fdca26"
             ],
             [
              1,
              "#f0f921"
             ]
            ],
            "type": "surface"
           }
          ],
          "table": [
           {
            "cells": {
             "fill": {
              "color": "#EBF0F8"
             },
             "line": {
              "color": "white"
             }
            },
            "header": {
             "fill": {
              "color": "#C8D4E3"
             },
             "line": {
              "color": "white"
             }
            },
            "type": "table"
           }
          ]
         },
         "layout": {
          "annotationdefaults": {
           "arrowcolor": "#2a3f5f",
           "arrowhead": 0,
           "arrowwidth": 1
          },
          "autotypenumbers": "strict",
          "coloraxis": {
           "colorbar": {
            "outlinewidth": 0,
            "ticks": ""
           }
          },
          "colorscale": {
           "diverging": [
            [
             0,
             "#8e0152"
            ],
            [
             0.1,
             "#c51b7d"
            ],
            [
             0.2,
             "#de77ae"
            ],
            [
             0.3,
             "#f1b6da"
            ],
            [
             0.4,
             "#fde0ef"
            ],
            [
             0.5,
             "#f7f7f7"
            ],
            [
             0.6,
             "#e6f5d0"
            ],
            [
             0.7,
             "#b8e186"
            ],
            [
             0.8,
             "#7fbc41"
            ],
            [
             0.9,
             "#4d9221"
            ],
            [
             1,
             "#276419"
            ]
           ],
           "sequential": [
            [
             0,
             "#0d0887"
            ],
            [
             0.1111111111111111,
             "#46039f"
            ],
            [
             0.2222222222222222,
             "#7201a8"
            ],
            [
             0.3333333333333333,
             "#9c179e"
            ],
            [
             0.4444444444444444,
             "#bd3786"
            ],
            [
             0.5555555555555556,
             "#d8576b"
            ],
            [
             0.6666666666666666,
             "#ed7953"
            ],
            [
             0.7777777777777778,
             "#fb9f3a"
            ],
            [
             0.8888888888888888,
             "#fdca26"
            ],
            [
             1,
             "#f0f921"
            ]
           ],
           "sequentialminus": [
            [
             0,
             "#0d0887"
            ],
            [
             0.1111111111111111,
             "#46039f"
            ],
            [
             0.2222222222222222,
             "#7201a8"
            ],
            [
             0.3333333333333333,
             "#9c179e"
            ],
            [
             0.4444444444444444,
             "#bd3786"
            ],
            [
             0.5555555555555556,
             "#d8576b"
            ],
            [
             0.6666666666666666,
             "#ed7953"
            ],
            [
             0.7777777777777778,
             "#fb9f3a"
            ],
            [
             0.8888888888888888,
             "#fdca26"
            ],
            [
             1,
             "#f0f921"
            ]
           ]
          },
          "colorway": [
           "#636efa",
           "#EF553B",
           "#00cc96",
           "#ab63fa",
           "#FFA15A",
           "#19d3f3",
           "#FF6692",
           "#B6E880",
           "#FF97FF",
           "#FECB52"
          ],
          "font": {
           "color": "#2a3f5f"
          },
          "geo": {
           "bgcolor": "white",
           "lakecolor": "white",
           "landcolor": "#E5ECF6",
           "showlakes": true,
           "showland": true,
           "subunitcolor": "white"
          },
          "hoverlabel": {
           "align": "left"
          },
          "hovermode": "closest",
          "mapbox": {
           "style": "light"
          },
          "paper_bgcolor": "white",
          "plot_bgcolor": "#E5ECF6",
          "polar": {
           "angularaxis": {
            "gridcolor": "white",
            "linecolor": "white",
            "ticks": ""
           },
           "bgcolor": "#E5ECF6",
           "radialaxis": {
            "gridcolor": "white",
            "linecolor": "white",
            "ticks": ""
           }
          },
          "scene": {
           "xaxis": {
            "backgroundcolor": "#E5ECF6",
            "gridcolor": "white",
            "gridwidth": 2,
            "linecolor": "white",
            "showbackground": true,
            "ticks": "",
            "zerolinecolor": "white"
           },
           "yaxis": {
            "backgroundcolor": "#E5ECF6",
            "gridcolor": "white",
            "gridwidth": 2,
            "linecolor": "white",
            "showbackground": true,
            "ticks": "",
            "zerolinecolor": "white"
           },
           "zaxis": {
            "backgroundcolor": "#E5ECF6",
            "gridcolor": "white",
            "gridwidth": 2,
            "linecolor": "white",
            "showbackground": true,
            "ticks": "",
            "zerolinecolor": "white"
           }
          },
          "shapedefaults": {
           "line": {
            "color": "#2a3f5f"
           }
          },
          "ternary": {
           "aaxis": {
            "gridcolor": "white",
            "linecolor": "white",
            "ticks": ""
           },
           "baxis": {
            "gridcolor": "white",
            "linecolor": "white",
            "ticks": ""
           },
           "bgcolor": "#E5ECF6",
           "caxis": {
            "gridcolor": "white",
            "linecolor": "white",
            "ticks": ""
           }
          },
          "title": {
           "x": 0.05
          },
          "xaxis": {
           "automargin": true,
           "gridcolor": "white",
           "linecolor": "white",
           "ticks": "",
           "title": {
            "standoff": 15
           },
           "zerolinecolor": "white",
           "zerolinewidth": 2
          },
          "yaxis": {
           "automargin": true,
           "gridcolor": "white",
           "linecolor": "white",
           "ticks": "",
           "title": {
            "standoff": 15
           },
           "zerolinecolor": "white",
           "zerolinewidth": 2
          }
         }
        },
        "width": 1200
       }
      },
      "image/png": "[encoded data removed]",
      "text/html": [
       "<div>                            <div id=\"eb81fc12-03fa-43fe-88ae-4868a83e4bbb\" class=\"plotly-graph-div\" style=\"height:1000px; width:1200px;\"></div>            <script type=\"text/javascript\">                require([\"plotly\"], function(Plotly) {                    window.PLOTLYENV=window.PLOTLYENV || {};                                    if (document.getElementById(\"eb81fc12-03fa-43fe-88ae-4868a83e4bbb\")) {                    Plotly.newPlot(                        \"eb81fc12-03fa-43fe-88ae-4868a83e4bbb\",                        [{\"branchvalues\":\"total\",\"customdata\":[[\"ROW\"],[\"ROW\"],[\"EU\"],[\"ROW\"],[\"EU\"],[\"EU\"],[\"EU\"],[\"ROW\"],[\"EU\"],[\"ROW\"],[\"EU\"],[\"EU\"],[\"ROW\"],[\"EU\"],[\"EU\"],[\"ROW\"],[\"EU\"],[\"EU\"],[\"EU\"],[\"ROW\"],[\"ROW\"],[\"EU\"],[\"EU\"],[\"EU\"],[\"EU\"],[\"EU\"],[\"EU\"],[\"EU\"],[\"EU\"],[\"ROW\"],[\"EU\"],[\"ROW\"],[\"ROW\"],[\"ROW\"],[\"EU\"],[\"EU\"],[\"EU\"],[\"ROW\"],[\"ROW\"],[\"ROW\"],[\"ROW\"],[\"EU\"],[\"EU\"],[\"ROW\"],[\"ROW\"],[\"EU\"],[\"EU\"],[\"ROW\"],[\"EU\"],[\"France\"],[\"ROW\"]],\"domain\":{\"x\":[0.0,1.0],\"y\":[0.0,1.0]},\"hovertemplate\":\"labels=%{label}\\u003cbr\\u003eEmbodied footprint=%{value}\\u003cbr\\u003eparent=%{parent}\\u003cbr\\u003eid=%{id}\\u003cbr\\u003e3_regions=%{customdata[0]}\\u003cextra\\u003e\\u003c\\u002fextra\\u003e\",\"ids\":[\"ROW\\u002fAustralia\",\"ROW\\u002fRoW Europe\",\"EU\\u002fSlovakia\",\"ROW\\u002fRoW America\",\"EU\\u002fSlovenia\",\"EU\\u002fPortugal\",\"EU\\u002fPoland\",\"ROW\\u002fNorway\",\"EU\\u002fNetherlands\",\"ROW\\u002fSouth Africa\",\"EU\\u002fLuxembourg\",\"EU\\u002fLatvia\",\"ROW\\u002fJapan\",\"EU\\u002fItaly\",\"EU\\u002fIreland\",\"ROW\\u002fRoW Middle East\",\"EU\\u002fIndonesia\",\"EU\\u002fCyprus\",\"EU\\u002fBelgium\",\"ROW\\u002fBrazil\",\"ROW\\u002fIndia\",\"EU\\u002fCzech Republic\",\"EU\\u002fDenmark\",\"EU\\u002fRomania\",\"EU\\u002fEstonia\",\"EU\\u002fFinland\",\"EU\\u002fGermany\",\"EU\\u002fGreece\",\"EU\\u002fHungary\",\"ROW\\u002fSouth Korea\",\"EU\\u002fSweden\",\"ROW\\u002fSwitzerland\",\"ROW\\u002fTaiwan\",\"ROW\\u002fTurkey\",\"EU\\u002fUnited Kingdom\",\"EU\\u002fSpain\",\"EU\\u002fMalta\",\"ROW\\u002fRoW Asia and Pacific\",\"ROW\\u002fRoW Africa\",\"ROW\\u002fMexico\",\"ROW\\u002fUnited States\",\"EU\\u002fLithuania\",\"EU\\u002fCroatia\",\"ROW\\u002fChina\",\"ROW\\u002fCanada\",\"EU\\u002fBulgaria\",\"EU\\u002fAustria\",\"ROW\\u002fRussia\",\"EU\",\"France\",\"ROW\"],\"labels\":[\"Australia\",\"RoW Europe\",\"Slovakia\",\"RoW America\",\"Slovenia\",\"Portugal\",\"Poland\",\"Norway\",\"Netherlands\",\"South Africa\",\"Luxembourg\",\"Latvia\",\"Japan\",\"Italy\",\"Ireland\",\"RoW Middle East\",\"Indonesia\",\"Cyprus\",\"Belgium\",\"Brazil\",\"India\",\"Czech Republic\",\"Denmark\",\"Romania\",\"Estonia\",\"Finland\",\"Germany\",\"Greece\",\"Hungary\",\"South Korea\",\"Sweden\",\"Switzerland\",\"Taiwan\",\"Turkey\",\"United Kingdom\",\"Spain\",\"Malta\",\"RoW Asia and Pacific\",\"RoW Africa\",\"Mexico\",\"United States\",\"Lithuania\",\"Croatia\",\"China\",\"Canada\",\"Bulgaria\",\"Austria\",\"Russia\",\"EU\",\"France\",\"ROW\"],\"marker\":{\"colors\":[\"2b2d42\",\"2b2d42\",\"8d99ae\",\"2b2d42\",\"8d99ae\",\"8d99ae\",\"8d99ae\",\"2b2d42\",\"8d99ae\",\"2b2d42\",\"8d99ae\",\"8d99ae\",\"2b2d42\",\"8d99ae\",\"8d99ae\",\"2b2d42\",\"8d99ae\",\"8d99ae\",\"8d99ae\",\"2b2d42\",\"2b2d42\",\"8d99ae\",\"8d99ae\",\"8d99ae\",\"8d99ae\",\"8d99ae\",\"8d99ae\",\"8d99ae\",\"8d99ae\",\"2b2d42\",\"8d99ae\",\"2b2d42\",\"2b2d42\",\"2b2d42\",\"8d99ae\",\"8d99ae\",\"8d99ae\",\"2b2d42\",\"2b2d42\",\"2b2d42\",\"2b2d42\",\"8d99ae\",\"8d99ae\",\"2b2d42\",\"2b2d42\",\"8d99ae\",\"8d99ae\",\"2b2d42\",\"8d99ae\",\"edf2f4\",\"2b2d42\"]},\"name\":\"\",\"parents\":[\"ROW\",\"ROW\",\"EU\",\"ROW\",\"EU\",\"EU\",\"EU\",\"ROW\",\"EU\",\"ROW\",\"EU\",\"EU\",\"ROW\",\"EU\",\"EU\",\"ROW\",\"EU\",\"EU\",\"EU\",\"ROW\",\"ROW\",\"EU\",\"EU\",\"EU\",\"EU\",\"EU\",\"EU\",\"EU\",\"EU\",\"ROW\",\"EU\",\"ROW\",\"ROW\",\"ROW\",\"EU\",\"EU\",\"EU\",\"ROW\",\"ROW\",\"ROW\",\"ROW\",\"EU\",\"EU\",\"ROW\",\"ROW\",\"EU\",\"EU\",\"ROW\",\"\",\"\",\"\"],\"values\":[0.2505867148193944,0.5874955804405295,0.1023236257049952,0.7648114615485134,0.03524607925082411,0.7413901631452283,1.331031150521348,0.1877294486957495,0.5195443506042121,0.3750423104127611,0.5170422509116679,0.02396430822078668,0.3703635756825793,1.093567211010242,0.1883648169375515,2.169659110963478,0.2374613964683131,0.01841347882850895,1.195678280789016,0.2726451418217727,0.9825514861331416,0.2582441591923338,0.1009812250379575,0.1390481339656688,0.03961780202715426,0.1226574393852449,2.533173972574354,0.3258545530918327,0.09334284655318528,0.176203170964716,0.1497749266614868,0.1152863560908025,0.2273573372216933,0.5658445944781817,0.6312345538169076,1.630793652611455,0.004129166171240959,3.141966475531545,3.042853765136616,0.1478484525197946,1.054754525017801,0.03484366541281012,0.03412617712670326,3.96408973774331,0.2489391311062095,0.1258147624369647,0.1630632120685865,1.656469298506506,12.39072736052658,25.22215514292135,20.302497674835095],\"type\":\"sunburst\"}],                        {\"template\":{\"data\":{\"histogram2dcontour\":[{\"type\":\"histogram2dcontour\",\"colorbar\":{\"outlinewidth\":0,\"ticks\":\"\"},\"colorscale\":[[0.0,\"#0d0887\"],[0.1111111111111111,\"#46039f\"],[0.2222222222222222,\"#7201a8\"],[0.3333333333333333,\"#9c179e\"],[0.4444444444444444,\"#bd3786\"],[0.5555555555555556,\"#d8576b\"],[0.6666666666666666,\"#ed7953\"],[0.7777777777777778,\"#fb9f3a\"],[0.8888888888888888,\"#fdca26\"],[1.0,\"#f0f921\"]]}],\"choropleth\":[{\"type\":\"choropleth\",\"colorbar\":{\"outlinewidth\":0,\"ticks\":\"\"}}],\"histogram2d\":[{\"type\":\"histogram2d\",\"colorbar\":{\"outlinewidth\":0,\"ticks\":\"\"},\"colorscale\":[[0.0,\"#0d0887\"],[0.1111111111111111,\"#46039f\"],[0.2222222222222222,\"#7201a8\"],[0.3333333333333333,\"#9c179e\"],[0.4444444444444444,\"#bd3786\"],[0.5555555555555556,\"#d8576b\"],[0.6666666666666666,\"#ed7953\"],[0.7777777777777778,\"#fb9f3a\"],[0.8888888888888888,\"#fdca26\"],[1.0,\"#f0f921\"]]}],\"heatmap\":[{\"type\":\"heatmap\",\"colorbar\":{\"outlinewidth\":0,\"ticks\":\"\"},\"colorscale\":[[0.0,\"#0d0887\"],[0.1111111111111111,\"#46039f\"],[0.2222222222222222,\"#7201a8\"],[0.3333333333333333,\"#9c179e\"],[0.4444444444444444,\"#bd3786\"],[0.5555555555555556,\"#d8576b\"],[0.6666666666666666,\"#ed7953\"],[0.7777777777777778,\"#fb9f3a\"],[0.8888888888888888,\"#fdca26\"],[1.0,\"#f0f921\"]]}],\"heatmapgl\":[{\"type\":\"heatmapgl\",\"colorbar\":{\"outlinewidth\":0,\"ticks\":\"\"},\"colorscale\":[[0.0,\"#0d0887\"],[0.1111111111111111,\"#46039f\"],[0.2222222222222222,\"#7201a8\"],[0.3333333333333333,\"#9c179e\"],[0.4444444444444444,\"#bd3786\"],[0.5555555555555556,\"#d8576b\"],[0.6666666666666666,\"#ed7953\"],[0.7777777777777778,\"#fb9f3a\"],[0.8888888888888888,\"#fdca26\"],[1.0,\"#f0f921\"]]}],\"contourcarpet\":[{\"type\":\"contourcarpet\",\"colorbar\":{\"outlinewidth\":0,\"ticks\":\"\"}}],\"contour\":[{\"type\":\"contour\",\"colorbar\":{\"outlinewidth\":0,\"ticks\":\"\"},\"colorscale\":[[0.0,\"#0d0887\"],[0.1111111111111111,\"#46039f\"],[0.2222222222222222,\"#7201a8\"],[0.3333333333333333,\"#9c179e\"],[0.4444444444444444,\"#bd3786\"],[0.5555555555555556,\"#d8576b\"],[0.6666666666666666,\"#ed7953\"],[0.7777777777777778,\"#fb9f3a\"],[0.8888888888888888,\"#fdca26\"],[1.0,\"#f0f921\"]]}],\"surface\":[{\"type\":\"surface\",\"colorbar\":{\"outlinewidth\":0,\"ticks\":\"\"},\"colorscale\":[[0.0,\"#0d0887\"],[0.1111111111111111,\"#46039f\"],[0.2222222222222222,\"#7201a8\"],[0.3333333333333333,\"#9c179e\"],[0.4444444444444444,\"#bd3786\"],[0.5555555555555556,\"#d8576b\"],[0.6666666666666666,\"#ed7953\"],[0.7777777777777778,\"#fb9f3a\"],[0.8888888888888888,\"#fdca26\"],[1.0,\"#f0f921\"]]}],\"mesh3d\":[{\"type\":\"mesh3d\",\"colorbar\":{\"outlinewidth\":0,\"ticks\":\"\"}}],\"scatter\":[{\"fillpattern\":{\"fillmode\":\"overlay\",\"size\":10,\"solidity\":0.2},\"type\":\"scatter\"}],\"parcoords\":[{\"type\":\"parcoords\",\"line\":{\"colorbar\":{\"outlinewidth\":0,\"ticks\":\"\"}}}],\"scatterpolargl\":[{\"type\":\"scatterpolargl\",\"marker\":{\"colorbar\":{\"outlinewidth\":0,\"ticks\":\"\"}}}],\"bar\":[{\"error_x\":{\"color\":\"#2a3f5f\"},\"error_y\":{\"color\":\"#2a3f5f\"},\"marker\":{\"line\":{\"color\":\"#E5ECF6\",\"width\":0.5},\"pattern\":{\"fillmode\":\"overlay\",\"size\":10,\"solidity\":0.2}},\"type\":\"bar\"}],\"scattergeo\":[{\"type\":\"scattergeo\",\"marker\":{\"colorbar\":{\"outlinewidth\":0,\"ticks\":\"\"}}}],\"scatterpolar\":[{\"type\":\"scatterpolar\",\"marker\":{\"colorbar\":{\"outlinewidth\":0,\"ticks\":\"\"}}}],\"histogram\":[{\"marker\":{\"pattern\":{\"fillmode\":\"overlay\",\"size\":10,\"solidity\":0.2}},\"type\":\"histogram\"}],\"scattergl\":[{\"type\":\"scattergl\",\"marker\":{\"colorbar\":{\"outlinewidth\":0,\"ticks\":\"\"}}}],\"scatter3d\":[{\"type\":\"scatter3d\",\"line\":{\"colorbar\":{\"outlinewidth\":0,\"ticks\":\"\"}},\"marker\":{\"colorbar\":{\"outlinewidth\":0,\"ticks\":\"\"}}}],\"scattermapbox\":[{\"type\":\"scattermapbox\",\"marker\":{\"colorbar\":{\"outlinewidth\":0,\"ticks\":\"\"}}}],\"scatterternary\":[{\"type\":\"scatterternary\",\"marker\":{\"colorbar\":{\"outlinewidth\":0,\"ticks\":\"\"}}}],\"scattercarpet\":[{\"type\":\"scattercarpet\",\"marker\":{\"colorbar\":{\"outlinewidth\":0,\"ticks\":\"\"}}}],\"carpet\":[{\"aaxis\":{\"endlinecolor\":\"#2a3f5f\",\"gridcolor\":\"white\",\"linecolor\":\"white\",\"minorgridcolor\":\"white\",\"startlinecolor\":\"#2a3f5f\"},\"baxis\":{\"endlinecolor\":\"#2a3f5f\",\"gridcolor\":\"white\",\"linecolor\":\"white\",\"minorgridcolor\":\"white\",\"startlinecolor\":\"#2a3f5f\"},\"type\":\"carpet\"}],\"table\":[{\"cells\":{\"fill\":{\"color\":\"#EBF0F8\"},\"line\":{\"color\":\"white\"}},\"header\":{\"fill\":{\"color\":\"#C8D4E3\"},\"line\":{\"color\":\"white\"}},\"type\":\"table\"}],\"barpolar\":[{\"marker\":{\"line\":{\"color\":\"#E5ECF6\",\"width\":0.5},\"pattern\":{\"fillmode\":\"overlay\",\"size\":10,\"solidity\":0.2}},\"type\":\"barpolar\"}],\"pie\":[{\"automargin\":true,\"type\":\"pie\"}]},\"layout\":{\"autotypenumbers\":\"strict\",\"colorway\":[\"#636efa\",\"#EF553B\",\"#00cc96\",\"#ab63fa\",\"#FFA15A\",\"#19d3f3\",\"#FF6692\",\"#B6E880\",\"#FF97FF\",\"#FECB52\"],\"font\":{\"color\":\"#2a3f5f\"},\"hovermode\":\"closest\",\"hoverlabel\":{\"align\":\"left\"},\"paper_bgcolor\":\"white\",\"plot_bgcolor\":\"#E5ECF6\",\"polar\":{\"bgcolor\":\"#E5ECF6\",\"angularaxis\":{\"gridcolor\":\"white\",\"linecolor\":\"white\",\"ticks\":\"\"},\"radialaxis\":{\"gridcolor\":\"white\",\"linecolor\":\"white\",\"ticks\":\"\"}},\"ternary\":{\"bgcolor\":\"#E5ECF6\",\"aaxis\":{\"gridcolor\":\"white\",\"linecolor\":\"white\",\"ticks\":\"\"},\"baxis\":{\"gridcolor\":\"white\",\"linecolor\":\"white\",\"ticks\":\"\"},\"caxis\":{\"gridcolor\":\"white\",\"linecolor\":\"white\",\"ticks\":\"\"}},\"coloraxis\":{\"colorbar\":{\"outlinewidth\":0,\"ticks\":\"\"}},\"colorscale\":{\"sequential\":[[0.0,\"#0d0887\"],[0.1111111111111111,\"#46039f\"],[0.2222222222222222,\"#7201a8\"],[0.3333333333333333,\"#9c179e\"],[0.4444444444444444,\"#bd3786\"],[0.5555555555555556,\"#d8576b\"],[0.6666666666666666,\"#ed7953\"],[0.7777777777777778,\"#fb9f3a\"],[0.8888888888888888,\"#fdca26\"],[1.0,\"#f0f921\"]],\"sequentialminus\":[[0.0,\"#0d0887\"],[0.1111111111111111,\"#46039f\"],[0.2222222222222222,\"#7201a8\"],[0.3333333333333333,\"#9c179e\"],[0.4444444444444444,\"#bd3786\"],[0.5555555555555556,\"#d8576b\"],[0.6666666666666666,\"#ed7953\"],[0.7777777777777778,\"#fb9f3a\"],[0.8888888888888888,\"#fdca26\"],[1.0,\"#f0f921\"]],\"diverging\":[[0,\"#8e0152\"],[0.1,\"#c51b7d\"],[0.2,\"#de77ae\"],[0.3,\"#f1b6da\"],[0.4,\"#fde0ef\"],[0.5,\"#f7f7f7\"],[0.6,\"#e6f5d0\"],[0.7,\"#b8e186\"],[0.8,\"#7fbc41\"],[0.9,\"#4d9221\"],[1,\"#276419\"]]},\"xaxis\":{\"gridcolor\":\"white\",\"linecolor\":\"white\",\"ticks\":\"\",\"title\":{\"standoff\":15},\"zerolinecolor\":\"white\",\"automargin\":true,\"zerolinewidth\":2},\"yaxis\":{\"gridcolor\":\"white\",\"linecolor\":\"white\",\"ticks\":\"\",\"title\":{\"standoff\":15},\"zerolinecolor\":\"white\",\"automargin\":true,\"zerolinewidth\":2},\"scene\":{\"xaxis\":{\"backgroundcolor\":\"#E5ECF6\",\"gridcolor\":\"white\",\"linecolor\":\"white\",\"showbackground\":true,\"ticks\":\"\",\"zerolinecolor\":\"white\",\"gridwidth\":2},\"yaxis\":{\"backgroundcolor\":\"#E5ECF6\",\"gridcolor\":\"white\",\"linecolor\":\"white\",\"showbackground\":true,\"ticks\":\"\",\"zerolinecolor\":\"white\",\"gridwidth\":2},\"zaxis\":{\"backgroundcolor\":\"#E5ECF6\",\"gridcolor\":\"white\",\"linecolor\":\"white\",\"showbackground\":true,\"ticks\":\"\",\"zerolinecolor\":\"white\",\"gridwidth\":2}},\"shapedefaults\":{\"line\":{\"color\":\"#2a3f5f\"}},\"annotationdefaults\":{\"arrowcolor\":\"#2a3f5f\",\"arrowhead\":0,\"arrowwidth\":1},\"geo\":{\"bgcolor\":\"white\",\"landcolor\":\"#E5ECF6\",\"subunitcolor\":\"white\",\"showland\":true,\"showlakes\":true,\"lakecolor\":\"white\"},\"title\":{\"x\":0.05},\"mapbox\":{\"style\":\"light\"}}},\"legend\":{\"tracegroupgap\":0},\"margin\":{\"t\":60},\"font\":{\"size\":25,\"family\":\"Arial Black\"},\"width\":1200,\"height\":1000},                        {\"responsive\": true}                    ).then(function(){\n",
       "                            \n",
       "var gd = document.getElementById('eb81fc12-03fa-43fe-88ae-4868a83e4bbb');\n",
       "var x = new MutationObserver(function (mutations, observer) {{\n",
       "        var display = window.getComputedStyle(gd).display;\n",
       "        if (!display || display === 'none') {{\n",
       "            console.log([gd, 'removed!']);\n",
       "            Plotly.purge(gd);\n",
       "            observer.disconnect();\n",
       "        }}\n",
       "}});\n",
       "\n",
       "// Listen for the removal of the full notebook cells\n",
       "var notebookContainer = gd.closest('#notebook-container');\n",
       "if (notebookContainer) {{\n",
       "    x.observe(notebookContainer, {childList: true});\n",
       "}}\n",
       "\n",
       "// Listen for the clearing of the current output cell\n",
       "var outputEl = gd.closest('.output');\n",
       "if (outputEl) {{\n",
       "    x.observe(outputEl, {childList: true});\n",
       "}}\n",
       "\n",
       "                        })                };                });            </script>        </div>"
      ]
     },
     "metadata": {},
     "output_type": "display_data"
    }
   ],
   "source": [
    "import plotly.express as px\n",
    "\n",
    "# Assuming 'df' is your DataFrame prepared earlier\n",
    "\n",
    "# Custom colors for the first level (3_regions)\n",
    "color_map = {\n",
    "    'EU': '8d99ae',\n",
    "    'ROW': '2b2d42',\n",
    "    'France': 'edf2f4'  # Single color representation for France\n",
    "}\n",
    "\n",
    "# Creating the sunburst chart\n",
    "fig = px.sunburst(\n",
    "    df,\n",
    "    path=['3_regions', 'Country_name'],  # Define the hierarchy levels\n",
    "    values='Embodied footprint',  # Define the values that determine the size of each slice\n",
    "    color='3_regions',  # Color by the first level, applying custom colors\n",
    "    color_discrete_map=color_map,  # Apply the custom color map\n",
    ")\n",
    "\n",
    "# Modify the size of the graph\n",
    "fig.update_layout(\n",
    "    width=1200,  # Width of the figure\n",
    "    height=1000,  # Height of the figure\n",
    "    font=dict(size=25, family='Arial Black')  # Adjust label font size and family\n",
    ")\n",
    "\n",
    "# Optionally, add annotations or additional design elements for France\n",
    "# Note: Direct representation of multi-color segments (bleu, blanc, rouge) isn't feasible\n",
    "\n",
    "fig.show()\n"
   ]
  },
  {
   "cell_type": "code",
   "execution_count": null,
   "id": "7c7b2255-52cb-44e9-98d9-b13b5d4e6219",
   "metadata": {},
   "outputs": [],
   "source": []
  }
 ],
 "metadata": {
  "kernelspec": {
   "display_name": "Python 3 (ipykernel)",
   "language": "python",
   "name": "python3"
  },
  "language_info": {
   "codemirror_mode": {
    "name": "ipython",
    "version": 3
   },
   "file_extension": ".py",
   "mimetype": "text/x-python",
   "name": "python",
   "nbconvert_exporter": "python",
   "pygments_lexer": "ipython3",
   "version": "3.10.13"
  }
 },
 "nbformat": 4,
 "nbformat_minor": 5
}
